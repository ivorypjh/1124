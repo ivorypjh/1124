{
 "cells": [
  {
   "cell_type": "markdown",
   "id": "d4995738",
   "metadata": {},
   "source": [
    "## 공용 코드"
   ]
  },
  {
   "cell_type": "code",
   "execution_count": 1,
   "id": "caae30dd",
   "metadata": {},
   "outputs": [],
   "source": [
    "# 파이썬\n",
    "# ≥3.5 필수\n",
    "import sys\n",
    "assert sys.version_info >= (3, 5)\n",
    "\n",
    "# 공통 모듈 임포트\n",
    "import numpy as np\n",
    "import pandas as pd\n",
    "import os\n",
    "\n",
    "path = \"c:/Windows/Fonts/malgun.ttf\"\n",
    "\n",
    "from matplotlib import font_manager, rc\n",
    "\n",
    "import platform\n",
    "\n",
    "if platform.system() == 'Darwin':\n",
    "    rc('font', family='AppleGothic')\n",
    "elif platform.system() == 'Windows':\n",
    "    font_name = font_manager.FontProperties(fname=path).get_name()\n",
    "    rc('font', family=font_name)\n",
    "    \n",
    "# Jupyter Notebook의 출력을 소수점 이하 3자리로 제한\n",
    "%precision 3\n",
    "\n",
    "import sklearn\n",
    "assert sklearn.__version__ >= \"0.20\"\n",
    "\n",
    "# 시드 고정\n",
    "np.random.seed(21)"
   ]
  },
  {
   "cell_type": "markdown",
   "id": "2ac76389",
   "metadata": {},
   "source": [
    "## 데이터"
   ]
  },
  {
   "cell_type": "markdown",
   "id": "0ef2f941",
   "metadata": {},
   "source": [
    "### 데이터 가져오기"
   ]
  },
  {
   "cell_type": "code",
   "execution_count": 2,
   "id": "0f61f913",
   "metadata": {},
   "outputs": [],
   "source": [
    "origin_data = pd.read_excel('./3차_VOD_2308.xlsx', index_col = None)"
   ]
  },
  {
   "cell_type": "markdown",
   "id": "3867877a",
   "metadata": {},
   "source": [
    "### 데이터 전처리"
   ]
  },
  {
   "cell_type": "code",
   "execution_count": 3,
   "id": "6765d0ad",
   "metadata": {},
   "outputs": [],
   "source": [
    "# 불필요한 컬럼 제거\n",
    "drop_data = origin_data.drop(['Unnamed: 0', 'ct_cl', 'genre_of_ct_cl', 'use_tms', 'SMRY', 'disp_rtm', 'strt_dt'], axis = 1)"
   ]
  },
  {
   "cell_type": "code",
   "execution_count": 4,
   "id": "46677af9",
   "metadata": {},
   "outputs": [],
   "source": [
    "# 데이터에서 불필요한 부분 제거\n",
    "\n",
    "import re\n",
    "\n",
    "# 제목 데이터에서 불필요한 부분을 제거하고\n",
    "# 전처리된 제목을 새로운 컬럼으로 추가하는 함수\n",
    "def get_rid_asset(dataframe):\n",
    "    # 괄호 안의 불필요한 부분 패턴\n",
    "    pattern = re.compile('\\([A-Za-z가-힣\\s]+\\)|\\([가-힣\\d\\s]+\\)|\\([\\d\\/]{5,}\\)')\n",
    "\n",
    "    new_data = []\n",
    "\n",
    "    for item in dataframe['asset_nm']:\n",
    "        name = str(item)\n",
    "        match_pattern = pattern.findall(name)\n",
    "\n",
    "        for dt in match_pattern:\n",
    "            name = name.replace(dt, \"\")\n",
    "            #new_data.append(dt)\n",
    "\n",
    "        new_data.append(name) \n",
    "    \n",
    "    # 제목과 함께 존재하는 회차 정보 제거\n",
    "    pattern = re.compile('\\s[\\d]+회')\n",
    "\n",
    "    series = []\n",
    "\n",
    "    for item in new_data:\n",
    "        name = str(item)\n",
    "\n",
    "        # 정규 표현식을 만족하는 경우 - 드라마 컨텐츠\n",
    "        try:\n",
    "            match_pattern = pattern.findall(name)\n",
    "\n",
    "            for dt in match_pattern:\n",
    "                name = name.replace(dt, \"\")\n",
    "            series.append(name)\n",
    "\n",
    "        # 정규 표현식을 만족하지 않는 경우 - 영화(~~회 가 없음)\n",
    "        except:\n",
    "            series.append(item)\n",
    "    \n",
    "    # 데이터 프레임에 처리 결과 컬럼을 추가\n",
    "    dataframe['series_name'] = series"
   ]
  },
  {
   "cell_type": "code",
   "execution_count": 5,
   "id": "6cae1639",
   "metadata": {},
   "outputs": [],
   "source": [
    "# 데이터에 함수를 적용\n",
    "get_rid_asset(drop_data)\n",
    "\n",
    "# 함수 적용 결과 확인\n",
    "#print(drop_data.head())"
   ]
  },
  {
   "cell_type": "code",
   "execution_count": 6,
   "id": "784b18b6",
   "metadata": {},
   "outputs": [],
   "source": [
    "# 출연진 정보가 없는 데이터 제거\n",
    "no_actr_data = drop_data.drop(drop_data[drop_data['ACTR_DISP'] == '-'].index, axis = 0)\n",
    "\n",
    "# 제거 확인 - 출력되는 데이터 없음\n",
    "# print(no_actr_data[no_actr_data['ACTR_DISP'] == '-'])"
   ]
  },
  {
   "cell_type": "code",
   "execution_count": null,
   "id": "6892109d",
   "metadata": {},
   "outputs": [],
   "source": [
    "drop_data.head()"
   ]
  },
  {
   "cell_type": "code",
   "execution_count": null,
   "id": "99b65300",
   "metadata": {},
   "outputs": [],
   "source": [
    "# 특정 subsr 의 시청 데이터에서 출연진 가져오기\n",
    "view_data = no_actr_data[drop_data['subsr'] == 64385000]\n",
    "\n",
    "# 데이터 확인\n",
    "print(view_data)\n",
    "print(view_data.groupby('series_name').count())"
   ]
  },
  {
   "cell_type": "markdown",
   "id": "2b4770c1",
   "metadata": {},
   "source": [
    "## 출연진 기반 추천"
   ]
  },
  {
   "cell_type": "markdown",
   "id": "769f41d7",
   "metadata": {},
   "source": [
    "### 출연진 데이터"
   ]
  },
  {
   "cell_type": "code",
   "execution_count": 36,
   "id": "0c1c83ed",
   "metadata": {
    "scrolled": true
   },
   "outputs": [],
   "source": [
    "# 출연진 정보를 저장할 list\n",
    "actr_list = []\n",
    "\n",
    "# 시청 데이터를 순회하면서 출연진 정보를 저장\n",
    "for _, item in view_data.iterrows():\n",
    "    if ',' in item['ACTR_DISP']:\n",
    "        item_list = item['ACTR_DISP'].split(',')\n",
    "    else:\n",
    "        item_list = [item['ACTR_DISP']]\n",
    "    \n",
    "    for actr in item_list:\n",
    "        actr_list.append(actr)\n",
    "\n",
    "# 확인\n",
    "#print(actr_list)"
   ]
  },
  {
   "cell_type": "code",
   "execution_count": 37,
   "id": "7ea609ed",
   "metadata": {},
   "outputs": [],
   "source": [
    "# counter 를 사용해서 출연 횟수 확인\n",
    "from collections import Counter\n",
    "\n",
    "count = Counter(actr_list)\n",
    "\n",
    "# 가장 많이 출연한 상위 N 명의 출연진 정보\n",
    "N_people = 7\n",
    "bestN_actr = count.most_common(N_people)"
   ]
  },
  {
   "cell_type": "code",
   "execution_count": 38,
   "id": "958299b9",
   "metadata": {},
   "outputs": [
    {
     "name": "stdout",
     "output_type": "stream",
     "text": [
      "[['신동엽', 0.17], ['정선희', 0.17], ['토니안 ', 0.17], ['조이', 0.17], ['이연복', 0.11], ['이정현', 0.11], ['이유리', 0.11]]\n"
     ]
    }
   ],
   "source": [
    "# 상위 N위 출연진에 대해 가중치 설정\n",
    "score_sum = 0\n",
    "for actr_score in bestN_actr:\n",
    "    score_sum += actr_score[1]\n",
    "\n",
    "w_bestN = []\n",
    "for actr_score in bestN_actr:\n",
    "    w_bestN.append([actr_score[0], round((actr_score[1] / score_sum), 2)])\n",
    "    \n",
    "print(w_bestN)"
   ]
  },
  {
   "cell_type": "code",
   "execution_count": null,
   "id": "f9d608a4",
   "metadata": {},
   "outputs": [],
   "source": [
    "actr_score_list = []\n",
    "\n",
    "# 각 행을 순회하면서 출연진 정보에 대한 점수를 더해서 데이터 생성\n",
    "for _, item in drop_data.iterrows():\n",
    "    score_data = 0\n",
    "    \n",
    "    for name_score in w_bestN:\n",
    "        if name_score[0] in str(item['ACTR_DISP']):\n",
    "            score_data += name_score[1]\n",
    "    actr_score_list.append(score_data)\n",
    "    \n",
    "# 기존 데이터에 컬럼 추가\n",
    "drop_data['ATCR_SCORE'] = actr_score_list\n",
    "\n",
    "# 확인\n",
    "drop_data.head()"
   ]
  },
  {
   "cell_type": "code",
   "execution_count": 40,
   "id": "6bbfa453",
   "metadata": {},
   "outputs": [
    {
     "data": {
      "text/plain": [
       "0.00    5318\n",
       "0.68     118\n",
       "0.17      79\n",
       "0.33      61\n",
       "0.11      39\n",
       "Name: ATCR_SCORE, dtype: int64"
      ]
     },
     "execution_count": 40,
     "metadata": {},
     "output_type": "execute_result"
    }
   ],
   "source": [
    "# 출연진 점수를 기준으로 순위 부여\n",
    "drop_data['rank'] = drop_data['ATCR_SCORE'].rank(method = 'min', na_option = 'bottom',\n",
    "                                                    ascending = False)\n",
    "# 확인\n",
    "drop_data['ATCR_SCORE'].value_counts()"
   ]
  },
  {
   "cell_type": "code",
   "execution_count": null,
   "id": "343dba76",
   "metadata": {},
   "outputs": [],
   "source": [
    "drop_data[drop_data['ATCR_SCORE'] == 0.68]"
   ]
  },
  {
   "cell_type": "code",
   "execution_count": 55,
   "id": "32407263",
   "metadata": {
    "scrolled": true
   },
   "outputs": [
    {
     "data": {
      "text/html": [
       "<div>\n",
       "<style scoped>\n",
       "    .dataframe tbody tr th:only-of-type {\n",
       "        vertical-align: middle;\n",
       "    }\n",
       "\n",
       "    .dataframe tbody tr th {\n",
       "        vertical-align: top;\n",
       "    }\n",
       "\n",
       "    .dataframe thead th {\n",
       "        text-align: right;\n",
       "    }\n",
       "</style>\n",
       "<table border=\"1\" class=\"dataframe\">\n",
       "  <thead>\n",
       "    <tr style=\"text-align: right;\">\n",
       "      <th></th>\n",
       "      <th>subsr</th>\n",
       "      <th>asset_nm</th>\n",
       "      <th>ACTR_DISP</th>\n",
       "      <th>ATCR_SCORE</th>\n",
       "      <th>rank</th>\n",
       "    </tr>\n",
       "    <tr>\n",
       "      <th>series_name</th>\n",
       "      <th></th>\n",
       "      <th></th>\n",
       "      <th></th>\n",
       "      <th></th>\n",
       "      <th></th>\n",
       "    </tr>\n",
       "  </thead>\n",
       "  <tbody>\n",
       "    <tr>\n",
       "      <th>신상 출시 편스토랑</th>\n",
       "      <td>61</td>\n",
       "      <td>61</td>\n",
       "      <td>61</td>\n",
       "      <td>61</td>\n",
       "      <td>61</td>\n",
       "    </tr>\n",
       "  </tbody>\n",
       "</table>\n",
       "</div>"
      ],
      "text/plain": [
       "             subsr  asset_nm  ACTR_DISP  ATCR_SCORE  rank\n",
       "series_name                                              \n",
       "신상 출시 편스토랑      61        61         61          61    61"
      ]
     },
     "execution_count": 55,
     "metadata": {},
     "output_type": "execute_result"
    }
   ],
   "source": [
    "drop_data[drop_data['ATCR_SCORE'] == 0.33].groupby('series_name').count()"
   ]
  },
  {
   "cell_type": "code",
   "execution_count": null,
   "id": "0f110454",
   "metadata": {},
   "outputs": [],
   "source": [
    "drop_data[drop_data['ATCR_SCORE'] == 0.17]"
   ]
  },
  {
   "cell_type": "code",
   "execution_count": null,
   "id": "9fd3731a",
   "metadata": {},
   "outputs": [],
   "source": [
    "drop_data[drop_data['ATCR_SCORE'] == 0.17].groupby('series_name').count()"
   ]
  },
  {
   "cell_type": "code",
   "execution_count": 33,
   "id": "9cb2fd21",
   "metadata": {
    "scrolled": false
   },
   "outputs": [
    {
     "data": {
      "text/html": [
       "<div>\n",
       "<style scoped>\n",
       "    .dataframe tbody tr th:only-of-type {\n",
       "        vertical-align: middle;\n",
       "    }\n",
       "\n",
       "    .dataframe tbody tr th {\n",
       "        vertical-align: top;\n",
       "    }\n",
       "\n",
       "    .dataframe thead th {\n",
       "        text-align: right;\n",
       "    }\n",
       "</style>\n",
       "<table border=\"1\" class=\"dataframe\">\n",
       "  <thead>\n",
       "    <tr style=\"text-align: right;\">\n",
       "      <th></th>\n",
       "      <th>Unnamed: 0</th>\n",
       "      <th>asset_nm</th>\n",
       "      <th>ct_cl</th>\n",
       "      <th>genre_of_ct_cl</th>\n",
       "      <th>use_tms</th>\n",
       "      <th>SMRY</th>\n",
       "      <th>ACTR_DISP</th>\n",
       "      <th>disp_rtm</th>\n",
       "      <th>strt_dt</th>\n",
       "    </tr>\n",
       "    <tr>\n",
       "      <th>subsr</th>\n",
       "      <th></th>\n",
       "      <th></th>\n",
       "      <th></th>\n",
       "      <th></th>\n",
       "      <th></th>\n",
       "      <th></th>\n",
       "      <th></th>\n",
       "      <th></th>\n",
       "      <th></th>\n",
       "    </tr>\n",
       "  </thead>\n",
       "  <tbody>\n",
       "    <tr>\n",
       "      <th>64385000</th>\n",
       "      <td>373</td>\n",
       "      <td>373</td>\n",
       "      <td>373</td>\n",
       "      <td>373</td>\n",
       "      <td>373</td>\n",
       "      <td>373</td>\n",
       "      <td>373</td>\n",
       "      <td>373</td>\n",
       "      <td>373</td>\n",
       "    </tr>\n",
       "  </tbody>\n",
       "</table>\n",
       "</div>"
      ],
      "text/plain": [
       "          Unnamed: 0  asset_nm  ct_cl  genre_of_ct_cl  use_tms  SMRY  \\\n",
       "subsr                                                                  \n",
       "64385000         373       373    373             373      373   373   \n",
       "\n",
       "          ACTR_DISP  disp_rtm  strt_dt  \n",
       "subsr                                   \n",
       "64385000        373       373      373  "
      ]
     },
     "execution_count": 33,
     "metadata": {},
     "output_type": "execute_result"
    }
   ],
   "source": [
    "(origin_data.groupby(['subsr']).count())[(origin_data.groupby(['subsr']).count())['asset_nm'] == 373]"
   ]
  },
  {
   "cell_type": "code",
   "execution_count": null,
   "id": "fcf45075",
   "metadata": {},
   "outputs": [],
   "source": [
    "print(view_data.groupby('series_name').count())"
   ]
  },
  {
   "cell_type": "code",
   "execution_count": null,
   "id": "e6de01d3",
   "metadata": {
    "scrolled": false
   },
   "outputs": [],
   "source": [
    "# ACTR score 를 기반으로 상위 컨텐츠 출력\n",
    "\n",
    "# 불필요한 컬럼 제거\n",
    "ac_data = drop_data.drop(['subsr', 'asset_nm', 'ACTR_DISP'], axis = 1)\n",
    "#print(ac_data.head())\n",
    "\n",
    "# series_name 과 ATCR_SCORE 컬럼을 기준으로 묶어서 중복 제거\n",
    "count_data = ac_data.groupby(['series_name', 'ATCR_SCORE']).count().reset_index()\n",
    "#print(count_data.head())\n",
    "\n",
    "# ATCR_SCORE 를 기준으로 정렬을 수행\n",
    "sorted_ac_data = count_data.sort_values(by = ['ATCR_SCORE', 'series_name'], ascending = False)\n",
    "#print(type(sorted_ac_data))\n",
    "#print(sorted_ac_data.head())\n",
    "\n",
    "# 최종 정렬 결과 확인\n",
    "print(sorted_ac_data)"
   ]
  },
  {
   "cell_type": "code",
   "execution_count": 111,
   "id": "48335215",
   "metadata": {},
   "outputs": [
    {
     "name": "stdout",
     "output_type": "stream",
     "text": [
      "['TV동물농장', '신상 출시 편스토랑', '익스토션', '실화탐사대', '슈퍼 마리오 브라더스']\n"
     ]
    }
   ],
   "source": [
    "# 상위 5개 컨텐츠의 정보를 리스트로 생성\n",
    "top5 = list(sorted_ac_data['series_name'][:5])\n",
    "print(top5)"
   ]
  }
 ],
 "metadata": {
  "kernelspec": {
   "display_name": "Python 3 (ipykernel)",
   "language": "python",
   "name": "python3"
  },
  "language_info": {
   "codemirror_mode": {
    "name": "ipython",
    "version": 3
   },
   "file_extension": ".py",
   "mimetype": "text/x-python",
   "name": "python",
   "nbconvert_exporter": "python",
   "pygments_lexer": "ipython3",
   "version": "3.10.9"
  }
 },
 "nbformat": 4,
 "nbformat_minor": 5
}
